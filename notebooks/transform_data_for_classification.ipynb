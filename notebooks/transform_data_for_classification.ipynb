{
 "cells": [
  {
   "cell_type": "code",
   "execution_count": 1,
   "metadata": {},
   "outputs": [],
   "source": [
    "import pandas as pd"
   ]
  },
  {
   "cell_type": "code",
   "execution_count": 2,
   "metadata": {},
   "outputs": [
    {
     "name": "stderr",
     "output_type": "stream",
     "text": [
      "/Users/utbootcamp/.conda/envs/PythonData/lib/python3.6/site-packages/IPython/core/interactiveshell.py:3057: DtypeWarning: Columns (43,61,62) have mixed types. Specify dtype option on import or set low_memory=False.\n",
      "  interactivity=interactivity, compiler=compiler, result=result)\n"
     ]
    }
   ],
   "source": [
    "listings_df = pd.read_csv(\"../csv_data/listings_full.csv.gz\")"
   ]
  },
  {
   "cell_type": "code",
   "execution_count": 3,
   "metadata": {},
   "outputs": [],
   "source": [
    "cols = [\"host_is_superhost\",\"host_since\",\"host_response_time\",\"host_response_rate\",\"host_listings_count\",\n",
    "        \"host_has_profile_pic\",\"host_identity_verified\",\"neighbourhood_cleansed\",\"latitude\",\n",
    "        \"longitude\",\"is_location_exact\",\"property_type\",\"room_type\",\"accommodates\",\"bathrooms\",\n",
    "        \"bedrooms\",\"beds\",\"bed_type\",\"price\",\"weekly_price\",\"monthly_price\",\"security_deposit\",\n",
    "        \"cleaning_fee\",\"guests_included\",\"extra_people\",\"minimum_nights\",\"maximum_nights\",\n",
    "        \"availability_30\",\"availability_60\",\"availability_90\",\"availability_365\",\"number_of_reviews\",\n",
    "        \"number_of_reviews_ltm\",\"review_scores_rating\",\"review_scores_accuracy\",\"review_scores_cleanliness\"\n",
    "        ,\"review_scores_checkin\",\"review_scores_communication\",\"review_scores_location\",\n",
    "        \"review_scores_value\",\"instant_bookable\",\"cancellation_policy\",\"require_guest_profile_picture\",\n",
    "        \"require_guest_phone_verification\",\"calculated_host_listings_count\",\n",
    "        \"calculated_host_listings_count_entire_homes\",\"calculated_host_listings_count_private_rooms\",\n",
    "        \"calculated_host_listings_count_shared_rooms\",\"reviews_per_month\"]\n",
    "listings_df = listings_df[cols]"
   ]
  },
  {
   "cell_type": "code",
   "execution_count": 4,
   "metadata": {},
   "outputs": [],
   "source": [
    "listings_df.rename(columns={\"neighbourhood_cleansed\": \"zipcode\"}, inplace=True)"
   ]
  },
  {
   "cell_type": "code",
   "execution_count": 5,
   "metadata": {},
   "outputs": [],
   "source": [
    "listings_df = listings_df.query(\"host_is_superhost.notnull()\", engine='python')"
   ]
  },
  {
   "cell_type": "code",
   "execution_count": 6,
   "metadata": {},
   "outputs": [],
   "source": [
    "boolean_cols = [\"host_is_superhost\", \"host_has_profile_pic\", \"host_identity_verified\",\"is_location_exact\",\n",
    "                \"instant_bookable\", \"require_guest_profile_picture\", \"require_guest_phone_verification\"]\n",
    "\n",
    "for col in boolean_cols:\n",
    "    listings_df[col] = listings_df[col].str.replace(\"t\",\"1\").str.replace(\"f\",\"0\").astype(int)"
   ]
  },
  {
   "cell_type": "code",
   "execution_count": 7,
   "metadata": {},
   "outputs": [],
   "source": [
    "listings_df[\"host_response_rate\"] = listings_df[\"host_response_rate\"].str.replace(\"%\",\"\") \\\n",
    "                                    .astype(float).fillna(0) / 100"
   ]
  },
  {
   "cell_type": "code",
   "execution_count": 8,
   "metadata": {},
   "outputs": [],
   "source": [
    "price_cols = [\"price\", \"weekly_price\", \"monthly_price\", \"security_deposit\", \"cleaning_fee\", \"extra_people\"]\n",
    "\n",
    "for col in price_cols:\n",
    "    listings_df[col] = listings_df[col].str.replace(\"$\",\"\").str.replace(\",\",\"\").astype(float).fillna(0)"
   ]
  },
  {
   "cell_type": "code",
   "execution_count": 9,
   "metadata": {},
   "outputs": [],
   "source": [
    "listings_df[\"total_hosting_years\"] = 2019 - listings_df[\"host_since\"].str.split(\"-\") \\\n",
    "                                                               .str[0].fillna(2019).astype(\"int\")\n",
    "listings_df.drop(columns=[\"host_since\"], inplace=True)"
   ]
  },
  {
   "cell_type": "code",
   "execution_count": 10,
   "metadata": {},
   "outputs": [],
   "source": [
    "listings_df[\"host_listings_count\"].fillna(1, inplace=True)"
   ]
  },
  {
   "cell_type": "code",
   "execution_count": 11,
   "metadata": {},
   "outputs": [],
   "source": [
    "fill_na_cols = [\"host_has_profile_pic\", \"host_identity_verified\", \"bathrooms\", \"bedrooms\", \"beds\", \n",
    "                \"review_scores_rating\", \"review_scores_accuracy\", \"review_scores_cleanliness\", \n",
    "                \"review_scores_checkin\", \"review_scores_communication\", \"review_scores_location\", \n",
    "                \"review_scores_value\", \"reviews_per_month\"]\n",
    "\n",
    "for col in fill_na_cols:\n",
    "    listings_df[col].fillna(0, inplace=True)"
   ]
  },
  {
   "cell_type": "code",
   "execution_count": 12,
   "metadata": {},
   "outputs": [],
   "source": [
    "listings_df[\"host_response_time\"].fillna(\"unknown\", inplace=True)"
   ]
  },
  {
   "cell_type": "code",
   "execution_count": 13,
   "metadata": {},
   "outputs": [],
   "source": [
    "zipcode_regions_df = pd.read_csv(\"../csv_data/airbnb_loc_regions.csv\")[[\"zipcode\", \"region_by_zipcode\"]]"
   ]
  },
  {
   "cell_type": "code",
   "execution_count": 14,
   "metadata": {},
   "outputs": [],
   "source": [
    "zipcode_regions_df = zipcode_regions_df.drop_duplicates(\"zipcode\") \\\n",
    "                        .query(\"zipcode.notnull()\", engine='python') \\\n",
    "                        .reset_index(drop=True)"
   ]
  },
  {
   "cell_type": "code",
   "execution_count": 15,
   "metadata": {},
   "outputs": [],
   "source": [
    "final_df = pd.merge(left=listings_df, right=zipcode_regions_df, how=\"inner\", on=\"zipcode\")"
   ]
  },
  {
   "cell_type": "code",
   "execution_count": 16,
   "metadata": {},
   "outputs": [],
   "source": [
    "final_df.to_csv(\"../csv_data/listings_classification.csv\", index=False)"
   ]
  },
  {
   "cell_type": "code",
   "execution_count": null,
   "metadata": {},
   "outputs": [],
   "source": []
  }
 ],
 "metadata": {
  "kernelspec": {
   "display_name": "Conda [PythonData]",
   "language": "python",
   "name": "pythondata"
  },
  "language_info": {
   "codemirror_mode": {
    "name": "ipython",
    "version": 3
   },
   "file_extension": ".py",
   "mimetype": "text/x-python",
   "name": "python",
   "nbconvert_exporter": "python",
   "pygments_lexer": "ipython3",
   "version": "3.6.8"
  }
 },
 "nbformat": 4,
 "nbformat_minor": 4
}
