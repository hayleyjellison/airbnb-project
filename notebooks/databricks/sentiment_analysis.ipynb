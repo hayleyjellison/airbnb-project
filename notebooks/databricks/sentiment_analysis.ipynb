{
 "cells": [
  {
   "cell_type": "code",
   "execution_count": 1,
   "metadata": {},
   "outputs": [],
   "source": [
    "# import AWS credentials\n",
    "# import config.py ##for local\n",
    "%run \"/dbfs/FileStore/tables/config\" ##for databricks"
   ]
  },
  {
   "cell_type": "code",
   "execution_count": 2,
   "metadata": {},
   "outputs": [],
   "source": [
    "import pandas as pd\n",
    "import numpy as np\n",
    "\n",
    "from pyspark.sql import SparkSession\n",
    "from pyspark import SparkFiles\n",
    "from pyspark.sql import DataFrame\n",
    "from pyspark.sql.types import *\n",
    "import pyspark.sql.functions as F"
   ]
  },
  {
   "cell_type": "code",
   "execution_count": 3,
   "metadata": {},
   "outputs": [],
   "source": [
    "# get or create Spark session\n",
    "app_name = \"spark-airbnb-sentiment\"\n",
    "spark = SparkSession.builder.appName(app_name).getOrCreate()"
   ]
  },
  {
   "cell_type": "code",
   "execution_count": 4,
   "metadata": {},
   "outputs": [],
   "source": [
    "import boto3\n",
    "\n",
    "secret_name = my_secret_name\n",
    "region_name = my_region_name\n",
    "access_key  = my_access_key\n",
    "secret_key  = my_secret_key\n",
    "\n",
    "session      = boto3.session.Session(aws_access_key_id=access_key, aws_secret_access_key=secret_key, region_name=region_name)\n",
    "client       = session.client('secretsmanager')\n",
    "secret_value = client.get_secret_value(SecretId=secret_name)"
   ]
  },
  {
   "cell_type": "code",
   "execution_count": 5,
   "metadata": {},
   "outputs": [],
   "source": [
    "import json\n",
    "def get_connection(secret_value):\n",
    "    return json.loads(secret_value['SecretString'])"
   ]
  },
  {
   "cell_type": "code",
   "execution_count": 6,
   "metadata": {},
   "outputs": [],
   "source": [
    "connection = get_connection(secret_value)\n",
    "\n",
    "# Postgres credentials\n",
    "jdbcHostname = connection['host']\n",
    "jdbcPort     = connection['port']\n",
    "jdbcDatabase = \"postgres\"\n",
    "dialect      = \"postgresql\"\n",
    "jdbcUsername = connection['username']\n",
    "jdbcPassword = connection['password']\n",
    "\n",
    "jdbcUrl = f\"jdbc:{dialect}://{jdbcHostname}:{jdbcPort}/{jdbcDatabase}\"\n",
    "connectionProperties = {\n",
    "  \"user\"     : jdbcUsername,\n",
    "  \"password\" : jdbcPassword,\n",
    "  \"driver\"   : \"org.postgresql.Driver\" \n",
    "}"
   ]
  },
  {
   "cell_type": "code",
   "execution_count": 7,
   "metadata": {},
   "outputs": [],
   "source": [
    "# Read from reviews_full table\n",
    "\n",
    "table = \"reviews_full\"\n",
    "\n",
    "reviews_df = spark.read.jdbc(url=jdbcUrl, table=table, properties=connectionProperties)\n",
    "reviews_df.printSchema()"
   ]
  },
  {
   "cell_type": "code",
   "execution_count": 8,
   "metadata": {},
   "outputs": [],
   "source": [
    "from pyspark.ml import Pipeline\n",
    "import sparknlp\n",
    "sparknlp.start()\n",
    "from sparknlp.base import *\n",
    "from sparknlp.annotator import *\n",
    "from sparknlp.pretrained import PretrainedPipeline\n",
    "\n",
    "pipeline = PretrainedPipeline(\"analyze_sentiment\", lang=\"en\")"
   ]
  },
  {
   "cell_type": "code",
   "execution_count": 9,
   "metadata": {},
   "outputs": [],
   "source": [
    "reviews_df = reviews_df.withColumnRenamed(\"comments\", \"text\").filter(\"text IS NOT NULL\")"
   ]
  },
  {
   "cell_type": "code",
   "execution_count": 10,
   "metadata": {},
   "outputs": [],
   "source": [
    "annotations_df = pipeline.transform(reviews_df)"
   ]
  },
  {
   "cell_type": "code",
   "execution_count": 11,
   "metadata": {},
   "outputs": [],
   "source": [
    "# return the overall sentiment by votes\n",
    "@F.udf()\n",
    "def voteSentiment(sentClassifications):\n",
    "  sentConf = [\n",
    "      [x[\"result\"], x[\"metadata\"][\"confidence\"]]\n",
    "    for x in sentClassifications\n",
    "  ]\n",
    "  posSent = np.mean([float(x[1]) for x in sentConf if x[0] == \"positive\"])\n",
    "  negSent = np.mean([float(x[1]) for x in sentConf if x[0] == \"negative\"])\n",
    "  return \"positive\" if posSent >= negSent else \"negative\"\n",
    "\n",
    "\n",
    "# return the sentiment with the highest confidence value\n",
    "@F.udf()\n",
    "def highestConfidence(sentClassifications):\n",
    "  try:\n",
    "    idx = np.argmax([x[\"metadata\"][\"confidence\"] for x in sentClassifications if x is not None])\n",
    "    return sentClassifications[idx][\"result\"]\n",
    "  except:\n",
    "    return \"unknown\"\n",
    "\n",
    "\n",
    "# return sentiment of the longest sentences after summing lengths\n",
    "@F.udf()\n",
    "def longestSentiment(sentClassifications):\n",
    "  sentLengths = [\n",
    "      [x[\"result\"], x[\"end\"] - x[\"begin\"]]\n",
    "    for x in sentClassifications\n",
    "  ]\n",
    "  posSent = sum([x[1] for x in sentLengths if x[0] == \"positive\"])\n",
    "  negSent = sum([x[1] for x in sentLengths if x[0] == \"negative\"])\n",
    "  return \"positive\" if posSent > negSent else \"negative\"\n",
    "\n",
    "\n",
    "# return the overall sentiment by votes after defining a 'distance' function\n",
    "# based on the distance between lengths of positive and negative sentences\n",
    "@F.udf()\n",
    "def classifySentiment(sentClassifications):\n",
    "  \n",
    "  sentConf = [\n",
    "      [x[\"result\"], x[\"metadata\"][\"confidence\"]]\n",
    "    for x in sentClassifications\n",
    "  ]\n",
    "  posSentConf = np.mean([float(x[1]) for x in sentConf if x[0] == \"positive\"])\n",
    "  negSentConf = np.mean([float(x[1]) for x in sentConf if x[0] == \"negative\"])\n",
    "  \n",
    "  sentLengths = [\n",
    "      [x[\"result\"], x[\"end\"] - x[\"begin\"]]\n",
    "    for x in sentClassifications\n",
    "  ]\n",
    "  posSentLengths = sum([x[1] for x in sentLengths if x[0] == \"positive\"])\n",
    "  negSentLengths = sum([x[1] for x in sentLengths if x[0] == \"negative\"])\n",
    "  \n",
    "  # set to NaN if we have null comments\n",
    "  if posSentLengths == 0 and negSentLengths == 0:\n",
    "    return np.nan\n",
    "  \n",
    "  if abs(posSentLengths - negSentLengths)/(posSentLengths + negSentLengths) > 0.2:\n",
    "    return \"positive\" if posSentLengths > negSentLengths else \"negative\"\n",
    "  \n",
    "  else:\n",
    "    return \"positive\" if posSentConf > negSentConf else \"negative\""
   ]
  },
  {
   "cell_type": "code",
   "execution_count": 12,
   "metadata": {},
   "outputs": [],
   "source": [
    "# apply UDFs to 'sentiment'\n",
    "sentiment_df = annotations_df.select(\"listing_id\", \"id\", \"date\", \"reviewer_id\", \"reviewer_name\", \"text\", \"sentiment\",\n",
    "                                     voteSentiment(\"sentiment\").alias(\"vote_sentiment\"),\n",
    "                                     highestConfidence(\"sentiment\").alias(\"high_conf_sentiment\"),\n",
    "                                     longestSentiment(\"sentiment\").alias(\"long_conf_sentiment\"),\n",
    "                                     classifySentiment(\"sentiment\").alias(\"classified_sentiment\")\n",
    "                                    )\n",
    "display(sentiment_df)"
   ]
  },
  {
   "cell_type": "code",
   "execution_count": 13,
   "metadata": {},
   "outputs": [],
   "source": [
    "vote_sentiment_df = sentiment_df.groupBy(\"listing_id\").pivot(\"vote_sentiment\", [\"positive\", \"negative\"]).count().orderBy(\"listing_id\")\n",
    "vote_sentiment_df = vote_sentiment_df.withColumnRenamed(\"positive\", \"vote_sentiment_positive_count\") \\\n",
    "                                   .withColumnRenamed(\"negative\", \"vote_sentiment_negative_count\") \\\n",
    "                                   .withColumn(\"vote_sentiment_positive_percent\", F.expr(\"CASE WHEN vote_sentiment_negative_count is null and vote_sentiment_positive_count > 0 THEN 1 WHEN vote_sentiment_positive_count is null and vote_sentiment_negative_count > 0 THEN 0 ELSE vote_sentiment_positive_count/(vote_sentiment_positive_count + vote_sentiment_negative_count) END\")) \\\n",
    "                                   .withColumn(\"vote_sentiment_positivity\", F.expr(\"CASE WHEN vote_sentiment_positive_percent > 0.7 THEN 1 ELSE 0 END\"))"
   ]
  },
  {
   "cell_type": "code",
   "execution_count": 14,
   "metadata": {},
   "outputs": [],
   "source": [
    "high_conf_sentiment_df = sentiment_df.groupBy(\"listing_id\").pivot(\"high_conf_sentiment\", [\"positive\", \"negative\"]).count().orderBy(\"listing_id\")\n",
    "high_conf_sentiment_df = high_conf_sentiment_df.withColumnRenamed(\"positive\", \"high_conf_sentiment_positive_count\") \\\n",
    "                                               .withColumnRenamed(\"negative\", \"high_conf_sentiment_negative_count\") \\\n",
    "                                               .withColumn(\"high_conf_sentiment_positive_percent\", F.expr(\"CASE WHEN high_conf_sentiment_negative_count is null and high_conf_sentiment_positive_count > 0 THEN 1 WHEN high_conf_sentiment_positive_count is null and high_conf_sentiment_negative_count > 0 THEN 0 ELSE high_conf_sentiment_positive_count/(high_conf_sentiment_positive_count + high_conf_sentiment_negative_count) END\")) \\\n",
    "                                               .withColumn(\"high_conf_sentiment_positivity\", F.expr(\"CASE WHEN high_conf_sentiment_positive_percent > 0.7 THEN 1 ELSE 0 END\"))"
   ]
  },
  {
   "cell_type": "code",
   "execution_count": 15,
   "metadata": {},
   "outputs": [],
   "source": [
    "long_conf_sentiment_df = sentiment_df.groupBy(\"listing_id\").pivot(\"long_conf_sentiment\", [\"positive\", \"negative\"]).count().orderBy(\"listing_id\")\n",
    "long_conf_sentiment_df = long_conf_sentiment_df.withColumnRenamed(\"positive\", \"long_conf_sentiment_positive_count\") \\\n",
    "                                               .withColumnRenamed(\"negative\", \"long_conf_sentiment_negative_count\") \\\n",
    "                                               .withColumn(\"long_conf_sentiment_positive_percent\", F.expr(\"CASE WHEN long_conf_sentiment_negative_count is null and long_conf_sentiment_positive_count > 0 THEN 1 WHEN long_conf_sentiment_positive_count is null and long_conf_sentiment_negative_count > 0 THEN 0 ELSE long_conf_sentiment_positive_count/(long_conf_sentiment_positive_count + long_conf_sentiment_negative_count) END\")) \\\n",
    "                                               .withColumn(\"long_conf_sentiment_positivity\", F.expr(\"CASE WHEN long_conf_sentiment_positive_percent > 0.7 THEN 1 ELSE 0 END\"))"
   ]
  },
  {
   "cell_type": "code",
   "execution_count": 16,
   "metadata": {},
   "outputs": [],
   "source": [
    "class_sentiment_df = sentiment_df.groupBy(\"listing_id\").pivot(\"classified_sentiment\", [\"positive\", \"negative\"]).count().orderBy(\"listing_id\")\n",
    "class_sentiment_df = class_sentiment_df.withColumnRenamed(\"positive\", \"classified_sentiment_positive_count\") \\\n",
    "                                       .withColumnRenamed(\"negative\", \"classified_sentiment_negative_count\") \\\n",
    "                                       .withColumn(\"classified_sentiment_positive_percent\", F.expr(\"CASE WHEN classified_sentiment_negative_count is null and classified_sentiment_positive_count> 0 THEN 1 WHEN classified_sentiment_positive_count is null and classified_sentiment_negative_count > 0 THEN 0 ELSE classified_sentiment_positive_count/(classified_sentiment_positive_count + classified_sentiment_negative_count) END\")) \\\n",
    "                                       .withColumn(\"classified_sentiment_positivity\", F.expr(\"CASE WHEN classified_sentiment_positive_percent > 0.7 THEN 1 ELSE 0 END\"))"
   ]
  },
  {
   "cell_type": "code",
   "execution_count": 17,
   "metadata": {},
   "outputs": [],
   "source": [
    "# join all counts by UDFs\n",
    "all_sentiment_df = vote_sentiment_df.join(high_conf_sentiment_df, [\"listing_id\"], how=\"inner\") \\\n",
    "                                   .join(long_conf_sentiment_df, [\"listing_id\"], how=\"inner\") \\\n",
    "                                   .join(class_sentiment_df, [\"listing_id\"], how=\"inner\")"
   ]
  },
  {
   "cell_type": "code",
   "execution_count": 18,
   "metadata": {},
   "outputs": [],
   "source": [
    "listings_df = spark.read.jdbc(url=jdbcUrl, table=\"listings_full\", properties=connectionProperties)\n",
    "listings_df = listings_df.select(\"id\", \"latitude\", \"longitude\", \"review_scores_rating\", \"host_name\", \"listing_url\", \"name\", \"price\")"
   ]
  },
  {
   "cell_type": "code",
   "execution_count": 19,
   "metadata": {},
   "outputs": [],
   "source": [
    "# join to get columns from listings_df\n",
    "final_df = all_sentiment_df.join(listings_df, all_sentiment_df.listing_id == listings_df.id, how=\"inner\").drop(F.col(\"id\"))\n",
    "display(final_df)"
   ]
  },
  {
   "cell_type": "code",
   "execution_count": 20,
   "metadata": {},
   "outputs": [],
   "source": [
    "# show row count of final dataframe for verification\n",
    "final_df.count()"
   ]
  },
  {
   "cell_type": "code",
   "execution_count": 21,
   "metadata": {},
   "outputs": [],
   "source": []
  }
 ],
 "metadata": {
  "kernelspec": {
   "display_name": "Conda [PythonData]",
   "language": "python",
   "name": "pythondata"
  },
  "language_info": {
   "codemirror_mode": {
    "name": "ipython",
    "version": 3
   },
   "file_extension": ".py",
   "mimetype": "text/x-python",
   "name": "python",
   "nbconvert_exporter": "python",
   "pygments_lexer": "ipython3",
   "version": "3.6.8"
  },
  "name": "sentiment_analysis",
  "notebookId": 4088791947301340
 },
 "nbformat": 4,
 "nbformat_minor": 4
}
